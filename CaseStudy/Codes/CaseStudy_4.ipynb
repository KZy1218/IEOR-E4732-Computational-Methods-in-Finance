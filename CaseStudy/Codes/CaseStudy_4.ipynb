{
 "cells": [
  {
   "cell_type": "markdown",
   "metadata": {},
   "source": [
    "## **<center>Case Study 4</center>**\n",
    "\n",
    "**<center>Author: Yi Zhang</center>**\n",
    "\n",
    "**<center>Uni: yz4130</center>**"
   ]
  },
  {
   "cell_type": "code",
   "execution_count": 3,
   "metadata": {},
   "outputs": [],
   "source": [
    "import numpy as np\n",
    "from scipy.optimize import fmin"
   ]
  },
  {
   "cell_type": "markdown",
   "metadata": {},
   "source": [
    "#### **Simulation of Asset Price**"
   ]
  },
  {
   "cell_type": "code",
   "execution_count": 4,
   "metadata": {},
   "outputs": [],
   "source": [
    "# True parameters\n",
    "true_params = [0.02, 1.5, 0.05, 0.18, 0.5, 0.04]"
   ]
  },
  {
   "cell_type": "code",
   "execution_count": 5,
   "metadata": {},
   "outputs": [],
   "source": [
    "# Euler scheme to simulate stock price under Heston dynamic\n",
    "def heston_euler(params, T, y0):\n",
    "    mu, kappa, theta, lam, rho, v0 = params\n",
    "    dt = 1/T\n",
    "    sim = np.zeros((T+1, 2))\n",
    "    sim[0,:] = y0, v0\n",
    "    z = np.random.normal(size=(T,2))\n",
    "    for i in range(1, T+1):\n",
    "        y_last, v_last = sim[i-1,:]\n",
    "        \n",
    "        # use full truncation to avoid negative vol values\n",
    "        vk = v_last + kappa * (theta - max(v_last, 0)) * dt + lam * np.sqrt(max(v_last, 0) * dt) * z[i-1, 0]\n",
    "        \n",
    "        z_correlated = rho * z[i-1, 0] + np.sqrt(1-rho**2) * z[i-1, 1]\n",
    "        yk = y_last + (mu - 0.5*v_last) * dt + np.sqrt(v_last*dt) * z_correlated\n",
    "        \n",
    "        sim[i,:] = yk, vk\n",
    "    return sim[:,0]"
   ]
  },
  {
   "cell_type": "markdown",
   "metadata": {},
   "source": [
    "#### **Extended Kalman Filter**"
   ]
  },
  {
   "cell_type": "code",
   "execution_count": 4,
   "metadata": {},
   "outputs": [],
   "source": [
    "# given price history, calculate the log likelihood\n",
    "def extKalman(init, T, H, P, logprice):\n",
    "    mu, kappa, theta, lam, rho, v0 = init\n",
    "    dt = 1/T\n",
    "    Q = np.array([[1, rho],\n",
    "                  [rho, 1]])\n",
    "\n",
    "    F = np.array([[1, -0.5*dt],   \n",
    "                  [0, 1-kappa*dt]])\n",
    "    \n",
    "    v = v0\n",
    "    likelihood = 0\n",
    "    \n",
    "    for t in range(1, T+1):\n",
    "        U = np.diag([np.sqrt(v*dt), lam * np.sqrt(v*dt)])\n",
    "        y_last = logprice[t-1]\n",
    "        \n",
    "        # time update\n",
    "        x1 = np.array([y_last + (mu - 0.5 * v) * dt, \n",
    "                       v + kappa * (theta - v) * dt])\n",
    "        P1 = F @ P @ F.T + U @ Q @ U.T\n",
    "        S = H @ P1 @ H.T        \n",
    "        K = P1 @ H.T / S\n",
    "        v1 = x1[1]\n",
    "        \n",
    "        # calculate error and update likelihood cost function\n",
    "        e = (logprice[t] - y_last) - (mu - 0.5*v1) * dt\n",
    "        likelihood += np.log(S) + e**2/S\n",
    "        \n",
    "        # measurement update\n",
    "        x = x1 + K * e\n",
    "        v = x[1]\n",
    "        P = (np.diag([1, 1]) - np.outer(K, H)) @ P1\n",
    " \n",
    "    return likelihood"
   ]
  },
  {
   "cell_type": "code",
   "execution_count": 68,
   "metadata": {},
   "outputs": [
    {
     "name": "stdout",
     "output_type": "stream",
     "text": [
      "Optimization terminated successfully.\n",
      "         Current function value: -39986.580913\n",
      "         Iterations: 28\n",
      "         Function evaluations: 48\n"
     ]
    }
   ],
   "source": [
    "H = np.array([1, 0])\n",
    "P = np.diag([0.01, 0.01])\n",
    "init = [0.033, 1.7, 0.08, 0.14, 0.36, 0.023]\n",
    "\n",
    "T = 10 * 365\n",
    "logprice0 = 3.66\n",
    "heston_price = heston_euler(true_params, T, logprice0)\n",
    "\n",
    "extended_model = fmin(extKalman, init, args=(T, H, P, heston_price), full_output=True, disp=True, xtol=10, ftol=20)\n",
    "extKalman_params = np.round(extended_model[0], 4)"
   ]
  },
  {
   "cell_type": "code",
   "execution_count": 69,
   "metadata": {},
   "outputs": [
    {
     "name": "stdout",
     "output_type": "stream",
     "text": [
      "Estimated parameters: [0.0313 1.6764 0.0221 0.1863 0.4315 0.0251]\n",
      "True parameter: [0.02, 1.5, 0.05, 0.18, 0.5, 0.04]\n",
      "Maximum Absolute Error: 0.1764\n",
      "Mean Square Error: 0.1923\n"
     ]
    }
   ],
   "source": [
    "print('Estimated parameters:', extKalman_params)\n",
    "print('True parameter:', true_params)\n",
    "print('Maximum Absolute Error:', np.round(np.max(extKalman_params - true_params), 4))\n",
    "print('Mean Square Error:', np.round(np.linalg.norm(extKalman_params - true_params), 4))\n"
   ]
  },
  {
   "cell_type": "markdown",
   "metadata": {},
   "source": [
    "#### **Particle Filter**"
   ]
  },
  {
   "cell_type": "code",
   "execution_count": 10,
   "metadata": {},
   "outputs": [],
   "source": [
    "def normal_pdf(x, m, s):\n",
    "    expon = -0.5 * ((x - m) / s) ** 2\n",
    "    deno = np.sqrt(2 * np.pi) * s\n",
    "    return np.exp(expon) / deno\n",
    "\n",
    "\n",
    "# resampling to method to avoid degeneracy\n",
    "def resampling(w, x):\n",
    "    nSim = len(x)\n",
    "    x_new = np.zeros(nSim)\n",
    "    cum_sum = np.cumsum(w)\n",
    "    i = 0\n",
    "    for j in range(N):\n",
    "        uj = (np.random.uniform() + j) / nSim\n",
    "        while uj > cum_sum[i]:\n",
    "            i += 1\n",
    "        x_new[j] = x[i]\n",
    "    return x_new, np.ones(nSim)/nSim  \n",
    "\n",
    "\n",
    "def parFilter(init, T, logprice, N):\n",
    "    mu, kappa, theta, lam, rho, v0 = init\n",
    "    dt = 1/T\n",
    "    weight = np.ones(N) / N\n",
    "    const = (1 + 0.5 * rho * lam * dt) ** (-1)\n",
    "    \n",
    "    v = v0 * np.ones(N)\n",
    "    likelihood = 0 \n",
    "    \n",
    "    for t in range(1, T+1):        \n",
    "        yt, y_last = logprice[t], logprice[t-1]\n",
    "        \n",
    "        # draw N samples from prior\n",
    "        term1 = v + kappa * (theta - v) * dt\n",
    "        term2 = lam * rho * 0.5 * v * dt\n",
    "        term3 = lam * np.sqrt(v * (1 - rho**2) * dt) * np.random.normal(size=N)\n",
    "        term4 = lam * rho * np.sqrt(v * dt) * np.random.normal(size=N)\n",
    "        \n",
    "        # equation 11 from Lecture 12\n",
    "        v_next = (term1 + term2 + term3 + term4) * const\n",
    "\n",
    "        # transition density\n",
    "        m_T = const * (v + kappa * (theta - v) * dt + 0.5 * lam * rho * v * dt)\n",
    "        sig_T = const * lam * np.sqrt(v*dt)\n",
    "        \n",
    "        # importance function\n",
    "        e = (yt - y_last) - (mu - 0.5*v) * dt\n",
    "        m_i = v + kappa * (theta - v) * dt + lam * rho * e\n",
    "        sig_i = lam * np.sqrt(v * (1 - rho**2) * dt)\n",
    "        \n",
    "        # likelihood\n",
    "        m_L = y_last + (mu - 0.5*v_next) * dt\n",
    "        sig_L = np.sqrt(v * dt)\n",
    "        \n",
    "        # update cost function\n",
    "        ratio = normal_pdf(yt, m_L, sig_L) * normal_pdf(v_next, m_T, sig_T) / normal_pdf(v_next, m_i, sig_i)\n",
    "        weight = ratio * weight\n",
    "        likelihood += np.log(np.sum(weight))\n",
    "        \n",
    "        # normalize the weight and do resampling\n",
    "        weight = weight / np.sum(weight)  \n",
    "        v, weight = resampling(weight, v_next)\n",
    "        \n",
    "    return -likelihood\n",
    "    "
   ]
  },
  {
   "cell_type": "code",
   "execution_count": 20,
   "metadata": {},
   "outputs": [
    {
     "name": "stderr",
     "output_type": "stream",
     "text": [
      "/Users/Yi/opt/anaconda3/lib/python3.7/site-packages/ipykernel_launcher.py:56: RuntimeWarning: divide by zero encountered in true_divide\n",
      "/Users/Yi/opt/anaconda3/lib/python3.7/site-packages/ipykernel_launcher.py:61: RuntimeWarning: invalid value encountered in true_divide\n",
      "/Users/Yi/opt/anaconda3/lib/python3.7/site-packages/ipykernel_launcher.py:56: RuntimeWarning: invalid value encountered in true_divide\n",
      "/Users/Yi/opt/anaconda3/lib/python3.7/site-packages/ipykernel_launcher.py:58: RuntimeWarning: invalid value encountered in log\n",
      "/Users/Yi/opt/anaconda3/lib/python3.7/site-packages/ipykernel_launcher.py:36: RuntimeWarning: invalid value encountered in sqrt\n",
      "/Users/Yi/opt/anaconda3/lib/python3.7/site-packages/ipykernel_launcher.py:37: RuntimeWarning: invalid value encountered in sqrt\n",
      "/Users/Yi/opt/anaconda3/lib/python3.7/site-packages/ipykernel_launcher.py:44: RuntimeWarning: invalid value encountered in sqrt\n",
      "/Users/Yi/opt/anaconda3/lib/python3.7/site-packages/ipykernel_launcher.py:49: RuntimeWarning: invalid value encountered in sqrt\n",
      "/Users/Yi/opt/anaconda3/lib/python3.7/site-packages/ipykernel_launcher.py:53: RuntimeWarning: invalid value encountered in sqrt\n"
     ]
    },
    {
     "name": "stdout",
     "output_type": "stream",
     "text": [
      "Warning: Maximum number of function evaluations has been exceeded.\n"
     ]
    }
   ],
   "source": [
    "init = [0.024, 1.79, 0.088, 0.14, 0.36, 0.053]\n",
    "T = 10 * 365\n",
    "logprice0 = 3.66\n",
    "heston_price = heston_euler(true_params, T, logprice0)\n",
    "# number of particles\n",
    "N = 20\n",
    "\n",
    "particle_model = fmin(parFilter, init, args=(T, heston_price, N), full_output=True, disp=True, xtol=10, ftol=50)\n",
    "particle_params = np.round(particle_model[0], 4)"
   ]
  },
  {
   "cell_type": "code",
   "execution_count": 21,
   "metadata": {},
   "outputs": [
    {
     "name": "stdout",
     "output_type": "stream",
     "text": [
      "Estimated parameters: [0.0245 2.0705 0.0331 0.1654 0.7181 0.0387]\n",
      "True parameter: [0.02, 1.5, 0.05, 0.18, 0.5, 0.04]\n",
      "Maximum Absolute Error: 0.5705\n",
      "Mean Square Error: 0.6112\n"
     ]
    }
   ],
   "source": [
    "print('Estimated parameters:', particle_params)\n",
    "print('True parameter:', true_params)\n",
    "print('Maximum Absolute Error:', np.round(np.max(particle_params - true_params), 4))\n",
    "print('Mean Square Error:', np.round(np.linalg.norm(particle_params - true_params), 4))"
   ]
  },
  {
   "cell_type": "code",
   "execution_count": null,
   "metadata": {},
   "outputs": [],
   "source": []
  }
 ],
 "metadata": {
  "kernelspec": {
   "display_name": "base",
   "language": "python",
   "name": "base"
  },
  "language_info": {
   "codemirror_mode": {
    "name": "ipython",
    "version": 3
   },
   "file_extension": ".py",
   "mimetype": "text/x-python",
   "name": "python",
   "nbconvert_exporter": "python",
   "pygments_lexer": "ipython3",
   "version": "3.7.6"
  },
  "orig_nbformat": 4
 },
 "nbformat": 4,
 "nbformat_minor": 2
}
