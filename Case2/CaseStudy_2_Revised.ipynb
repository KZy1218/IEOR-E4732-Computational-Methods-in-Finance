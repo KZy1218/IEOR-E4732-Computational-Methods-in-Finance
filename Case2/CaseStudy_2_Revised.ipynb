{
 "cells": [
  {
   "cell_type": "code",
   "execution_count": 42,
   "metadata": {},
   "outputs": [],
   "source": [
    "import numpy as np\n",
    "from scipy.special import gammaincc, gamma"
   ]
  },
  {
   "cell_type": "code",
   "execution_count": 43,
   "metadata": {},
   "outputs": [],
   "source": [
    "# parameter\n",
    "S0 = 1900\n",
    "K = 2000\n",
    "B = 2200\n",
    "r = 0.0025\n",
    "q = 0.015\n",
    "T = 0.5\n",
    "vol = 0.25\n",
    "nuJ = 0.31\n",
    "theta = -0.25\n",
    "Y= 0.4\n",
    "\n",
    "lp = np.sqrt(theta**2 / vol**4 + 2 / (nuJ * vol**2)) - theta / vol**2\n",
    "ln = np.sqrt(theta**2 / vol**4 + 2 / (nuJ * vol**2)) + theta / vol**2"
   ]
  },
  {
   "cell_type": "code",
   "execution_count": 44,
   "metadata": {},
   "outputs": [],
   "source": [
    "# quoted from Prof. Ali Hirsa sample code\n",
    "def tridiagSolver(l, d, u, f):\n",
    "    \n",
    "    ''' \n",
    "    Tridiagonal solver \n",
    "    '''\n",
    "    \n",
    "    n = len(f)\n",
    "    v = np.zeros(n)\n",
    "    y = np.zeros(n)\n",
    "    w = d[0]\n",
    "    y[0] = 1.0 * f[0] / w\n",
    "    \n",
    "    for i in range(1, n):\n",
    "        v[i-1] = 1. * u[i-1] / w\n",
    "        w = d[i] - l[i] * v[i-1]\n",
    "        y[i] = 1. * (f[i] - l[i] * y[i-1]) / w\n",
    "    \n",
    "    for j in range(n-2, -1, -1):\n",
    "        y[j] = y[j] - v[j] * y[j+1]\n",
    "    \n",
    "    return y"
   ]
  },
  {
   "cell_type": "code",
   "execution_count": 45,
   "metadata": {},
   "outputs": [],
   "source": [
    "xMin, xMax = np.log(500), np.log(B)\n",
    "N = 800\n",
    "M = 100\n",
    "\n",
    "dx = (xMax - xMin) / N\n",
    "dt = T / M\n",
    "\n",
    "tau = dt * np.arange(1, M+1)\n",
    "epsilon = dx\n",
    "x = xMin + np.arange(N+1) * dx"
   ]
  },
  {
   "cell_type": "code",
   "execution_count": 46,
   "metadata": {},
   "outputs": [],
   "source": [
    "# precalculated vector, since we know Y is not zero, we can simplify the expression of g1 and g2\n",
    "def g1(x, alpha):\n",
    "    return gammaincc(1-alpha, x) * gamma(1-alpha)\n",
    "\n",
    "def g2(x, alpha):\n",
    "    return ((np.exp(-x) * (x**(-alpha)) / alpha)) - g1(x, alpha) / alpha\n",
    "\n",
    "def sig_calculator(l):\n",
    "    return (l**(Y-2)) * (-(l*epsilon)**(1-Y) * np.exp(-l*epsilon) + (1-Y) * (g1(0, Y) - g1(l*epsilon, Y))) / nuJ \n",
    "\n",
    "\n",
    "kx = np.arange(1, N+1) * dx\n",
    "\n",
    "# g vector \n",
    "g1n = g1(kx * ln, Y)\n",
    "g1p = g1(kx * lp, Y)\n",
    "g2n = g2(kx * ln, Y)\n",
    "g2p = g2(kx * lp, Y)\n",
    "g2n_plus = g2(kx * (ln+1), Y)\n",
    "g2p_minus = g2(kx * (lp-1), Y)\n",
    "\n",
    "# sigma and omega\n",
    "sigma = sig_calculator(ln) + sig_calculator(lp)\n",
    "omega = ((lp**Y) * g2(lp*epsilon, Y) - ((lp-1)**Y * g2((lp-1)*epsilon, Y)) \\\n",
    "+ (ln**Y) * g2(ln*epsilon, Y)  - ((ln+1)**Y * g2((ln+1)*epsilon, Y))) / nuJ\n",
    "\n",
    "# diagonal entry\n",
    "alpha = sigma * dt / (2 * dx**2)\n",
    "beta = r - q + omega - (sigma / 2)\n",
    "\n",
    "Bl = alpha - beta * dt / (2*dx)\n",
    "Bu = alpha + beta * dt / (2*dx)\n"
   ]
  },
  {
   "cell_type": "code",
   "execution_count": 47,
   "metadata": {},
   "outputs": [],
   "source": [
    "def R(w):\n",
    "    ans = np.zeros(N-1)\n",
    "    for i in range(1, N):\n",
    "        if i == 1 or i == N-1:\n",
    "            ans[i-1] = 0\n",
    "        else:\n",
    "            for k in range(1, i):\n",
    "                ans[i-1] += ln**Y * (w[i-k] - w[i] - k * (w[i-k-1] - w[i-k])) * (g2n[k-1] - g2n[k])\n",
    "                ans[i-1] += (w[i-k-1] - w[i-k]) * (g1n[k-1] - g1n[k]) / ((ln ** (1-Y)) * dx)\n",
    "\n",
    "            for k in range(1, N-i):\n",
    "                ans[i-1] += lp**Y * (w[i+k] - w[i] - k * (w[i+k+1] - w[i+k])) * (g2p[k-1] - g2p[k])\n",
    "                ans[i-1] += (w[i+k-1] - w[i+k]) * (g1p[k-1] - g1p[k]) / ((lp ** (1-Y)) * dx)\n",
    "        ans[i-1] += K * ln**Y * g2n[i-1] - np.exp(x[i]) * (ln + 1)**Y * g2n_plus[i-1] \n",
    "    return ans"
   ]
  },
  {
   "cell_type": "code",
   "execution_count": 48,
   "metadata": {},
   "outputs": [],
   "source": [
    "# tridiagonal matrix\n",
    "l = np.ones(N-1) * (-Bl)\n",
    "u = np.ones(N-1) * (-Bu)\n",
    "d = 1 + r*dt + Bu + Bl + dt * (ln**Y * g2n[:N-1] + lp**Y * g2p[::-1][:N-1]) / nuJ\n",
    "\n",
    "# boundary conditon\n",
    "u[-1] =  0\n",
    "l[0] = 0\n",
    "\n",
    "# initial condition\n",
    "s = np.exp(x)\n",
    "vCall = np.maximum(s - K, 0) * (s < B)"
   ]
  },
  {
   "cell_type": "code",
   "execution_count": 49,
   "metadata": {},
   "outputs": [
    {
     "name": "stdout",
     "output_type": "stream",
     "text": [
      "Implicit Scheme for UOC option\n",
      "Iter = 50\n",
      "Iter = 100\n",
      "Done\n"
     ]
    }
   ],
   "source": [
    "print('Implicit Scheme for UOC option')\n",
    "for j in range(M):\n",
    "    if (j+1) % 50  == 0:\n",
    "        print('Iter = ' + str(j+1))   \n",
    "    rhs = (dt * R(vCall) / nuJ) + vCall[1:N]\n",
    "    inner = tridiagSolver(l, d, u, rhs)\n",
    "    vCall = np.pad(inner, (1, 1), 'constant', constant_values=(0, 0))\n",
    "print('Done')"
   ]
  },
  {
   "cell_type": "code",
   "execution_count": 50,
   "metadata": {},
   "outputs": [
    {
     "name": "stdout",
     "output_type": "stream",
     "text": [
      "Price of the UOC option through implicit scheme: 33.41145860422138\n"
     ]
    }
   ],
   "source": [
    "# can change M & N to test sensitivity \n",
    "uoc_imp = np.interp(np.log(S0), x, vCall)\n",
    "print('Price of the UOC option through implicit scheme:', uoc_imp)"
   ]
  }
 ],
 "metadata": {
  "interpreter": {
   "hash": "a219e74cff3d6f0d0b733240275cedab0790f96e0e10ae4045ee1ae8b83c2b4f"
  },
  "kernelspec": {
   "display_name": "Python 3.7.6 ('base')",
   "language": "python",
   "name": "python3"
  },
  "language_info": {
   "codemirror_mode": {
    "name": "ipython",
    "version": 3
   },
   "file_extension": ".py",
   "mimetype": "text/x-python",
   "name": "python",
   "nbconvert_exporter": "python",
   "pygments_lexer": "ipython3",
   "version": "3.7.6"
  },
  "orig_nbformat": 4
 },
 "nbformat": 4,
 "nbformat_minor": 2
}
