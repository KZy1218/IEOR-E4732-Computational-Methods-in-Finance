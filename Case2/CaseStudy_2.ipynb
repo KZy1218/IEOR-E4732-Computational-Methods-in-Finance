{
 "cells": [
  {
   "cell_type": "markdown",
   "metadata": {},
   "source": [
    "### Pricing UOC option via Finite Difference"
   ]
  },
  {
   "cell_type": "code",
   "execution_count": 2,
   "metadata": {},
   "outputs": [],
   "source": [
    "import numpy as np\n",
    "from scipy.special import gammaincc, gamma"
   ]
  },
  {
   "cell_type": "code",
   "execution_count": 58,
   "metadata": {},
   "outputs": [],
   "source": [
    "# parameter\n",
    "S0 = 1900\n",
    "K = 2000\n",
    "B = 2200\n",
    "r = 0.0025\n",
    "q = 0.015\n",
    "T = 0.5\n",
    "vol = 0.25\n",
    "nuJ = 0.31\n",
    "theta = -0.25\n",
    "Y = 0.4\n",
    "\n",
    "lp = np.sqrt(theta**2 / vol**4 + 2 / (nuJ * vol**2)) - theta / vol**2\n",
    "ln = np.sqrt(theta**2 / vol**4 + 2 / (nuJ * vol**2)) + theta / vol**2\n"
   ]
  },
  {
   "cell_type": "code",
   "execution_count": 59,
   "metadata": {},
   "outputs": [],
   "source": [
    "# quoted from Prof. Ali Hirsa sample code\n",
    "def tridiagSolver(l, d, u, f):\n",
    "    \n",
    "    ''' \n",
    "    Tridiagonal solver \n",
    "    '''\n",
    "    \n",
    "    n = len(f)\n",
    "    v = np.zeros(n)\n",
    "    y = np.zeros(n)\n",
    "    w = d[0]\n",
    "    y[0] = 1.0 * f[0] / w\n",
    "    \n",
    "    for i in range(1, n):\n",
    "        v[i-1] = 1. * u[i-1] / w\n",
    "        w = d[i] - l[i] * v[i-1]\n",
    "        y[i] = 1. * (f[i] - l[i] * y[i-1]) / w\n",
    "    \n",
    "    for j in range(n-2, -1, -1):\n",
    "        y[j] = y[j] - v[j] * y[j+1]\n",
    "    \n",
    "    return y"
   ]
  },
  {
   "cell_type": "markdown",
   "metadata": {},
   "source": [
    "#### Grid Discretization"
   ]
  },
  {
   "cell_type": "code",
   "execution_count": 60,
   "metadata": {},
   "outputs": [],
   "source": [
    "xMin, xMax = np.log(100), np.log(B)\n",
    "N = 1000\n",
    "M = 300\n",
    "\n",
    "dx = (xMax - xMin) / N\n",
    "dt = T / M\n",
    "\n",
    "epsilon = dx\n",
    "x = xMin + np.arange(N+1) * dx"
   ]
  },
  {
   "cell_type": "markdown",
   "metadata": {},
   "source": [
    "#### PreCalculation"
   ]
  },
  {
   "cell_type": "code",
   "execution_count": 61,
   "metadata": {},
   "outputs": [],
   "source": [
    "# precalculated vector, since we know Y is not zero, we can simplify the expression of g1 and g2\n",
    "def g1(x, alpha):\n",
    "    return gammaincc(1-alpha, x) * gamma(1-alpha)\n",
    "\n",
    "def g2(x, alpha):\n",
    "    return np.exp(-x) * x**(-alpha) / alpha - g1(x, alpha) / alpha\n",
    "\n",
    "def sig_calculator(l):\n",
    "    return (l**(Y-2)) * (-(l*epsilon)**(1-Y) * np.exp(-l*epsilon) + (1-Y) * (g1(0, Y) - g1(l*epsilon, Y))) / nuJ \n",
    "\n",
    "\n",
    "kx = np.arange(1, N+1) * dx\n",
    "\n",
    "# g vector \n",
    "g1n = g1(kx * ln, Y)\n",
    "g1p = g1(kx * lp, Y)\n",
    "g2n = g2(kx * ln, Y)\n",
    "g2p = g2(kx * lp, Y)\n",
    "g2n_plus = g2(kx * (ln+1), Y)\n",
    "g2p_minus = g2(kx * (lp-1), Y)\n",
    "\n",
    "# sigma and omega\n",
    "sigma = sig_calculator(ln) + sig_calculator(lp)\n",
    "\n",
    "omega = (lp**Y) / nuJ * g2(lp*epsilon, Y) \n",
    "omega += -((lp-1)**Y / nuJ * g2((lp-1)*epsilon, Y)) \n",
    "omega += (ln**Y) / nuJ * g2(ln*epsilon, Y)\n",
    "omega += -((ln+1)**Y / nuJ * g2((ln+1)*epsilon, Y))\n",
    "\n",
    "\n",
    "# diagonal entry\n",
    "alpha = sigma * dt / (2 * dx**2)\n",
    "beta = r - q + omega - (sigma / 2)\n",
    "\n",
    "Bl = alpha - beta * dt / (2*dx)\n",
    "Bu = alpha + beta * dt / (2*dx)"
   ]
  },
  {
   "cell_type": "code",
   "execution_count": 62,
   "metadata": {},
   "outputs": [],
   "source": [
    "def R(w):\n",
    "    ans = np.zeros(N-1)\n",
    "    for i in range(1, N):\n",
    "        if i == 1 or i == N-1:\n",
    "            ans[i-1] = 0\n",
    "        else:\n",
    "            for k in range(1, i):\n",
    "                ans[i-1] += ln**Y * (w[i-k] - w[i] - k * (w[i-k-1] - w[i-k])) * (g2n[k-1] - g2n[k])\n",
    "                ans[i-1] += (w[i-k-1] - w[i-k]) * (g1n[k-1] - g1n[k]) / ((ln ** (1-Y)) * dx)\n",
    "\n",
    "            for k in range(1, N-i):\n",
    "                ans[i-1] += lp**Y * (w[i+k] - w[i] - k * (w[i+k+1] - w[i+k])) * (g2p[k-1] - g2p[k])\n",
    "                ans[i-1] += (w[i+k-1] - w[i+k]) * (g1p[k-1] - g1p[k]) / ((lp ** (1-Y)) * dx)\n",
    "        ans[i-1] += K * ln**Y * g2n[i-1] - np.exp(x[i]) * (ln + 1)**Y * g2n_plus[i-1] \n",
    "    return ans"
   ]
  },
  {
   "cell_type": "markdown",
   "metadata": {},
   "source": [
    "#### Implicit Scheme"
   ]
  },
  {
   "cell_type": "code",
   "execution_count": 63,
   "metadata": {},
   "outputs": [],
   "source": [
    "# tridiagonal matrix\n",
    "l = np.ones(N-1) * (-Bl)\n",
    "u = np.ones(N-1) * (-Bu)\n",
    "d = 1 + r*dt + Bu + Bl + dt / nuJ * (ln**Y * g2n[:N-1] + lp**Y * g2p[::-1][:N-1]) \n",
    "\n",
    "# boundary conditon\n",
    "u[-1] =  0\n",
    "l[0] = 0\n",
    "\n",
    "# initial condition\n",
    "vCall = np.maximum(np.exp(x) - K, 0)"
   ]
  },
  {
   "cell_type": "code",
   "execution_count": 64,
   "metadata": {},
   "outputs": [
    {
     "name": "stdout",
     "output_type": "stream",
     "text": [
      "Implicit Scheme for UOC option\n",
      "Iter = 50\n",
      "Iter = 100\n",
      "Iter = 150\n",
      "Iter = 200\n",
      "Iter = 250\n",
      "Iter = 300\n",
      "Done\n"
     ]
    }
   ],
   "source": [
    "print('Implicit Scheme for UOC option')\n",
    "for j in range(M):\n",
    "    if (j+1) % 50  == 0:\n",
    "        print('Iter = ' + str(j+1))   \n",
    "        \n",
    "    rhs = (dt * R(vCall) / nuJ) + vCall[1:N]\n",
    "    # rhs = (dt / nuJ * R(vCall)) + vCall[1:N]\n",
    "    \n",
    "    inner = tridiagSolver(l, d, u, rhs)\n",
    "    vCall = np.pad(inner, (1, 1), 'constant', constant_values=(0, 0))\n",
    "print('Done')"
   ]
  },
  {
   "cell_type": "code",
   "execution_count": 65,
   "metadata": {},
   "outputs": [
    {
     "name": "stdout",
     "output_type": "stream",
     "text": [
      "Price of the UOC option through implicit scheme: 13.059887288666943\n",
      "M = 300\n",
      "N = 1000\n"
     ]
    }
   ],
   "source": [
    "uoc_imp = np.interp(np.log(S0), x, vCall)\n",
    "print('Price of the UOC option through implicit scheme:', uoc_imp)\n",
    "print('M =', M)\n",
    "print('N =', N)"
   ]
  },
  {
   "cell_type": "code",
   "execution_count": 66,
   "metadata": {},
   "outputs": [],
   "source": [
    "# different parameter setting results\n",
    "\n",
    "# price = 7.9099, N = 1500, M = 300, xMin = log(100), xMax = log(2200), elapsed_time = 37 mins\n",
    "# price = 9.2727, N = 1400, M = 300, xMin = log(100), xMax = log(2200), elapsed_time = 33 mins\n",
    "# price = 10.5438, N = 1300, M = 300, xMin = log(100), xMax = log(2200), elapsed_time = 30 mins\n",
    "# price = 11.6613 , N = 1200, M = 300, xMin = log(100), xMax = log(2200), elapsed_time = 24 mins\n",
    "# price = 12.5363 , N = 1100, M = 300, xMin = log(100), xMax = log(2200), elapsed_time = 20 mins\n",
    "# price = 13.0599 , N = 1000, M = 300, xMin = log(100), xMax = log(2200), elapsed_time = 16 mins\n",
    "\n",
    "# price = 7.8618, N = 1500, M = 250, xMin = log(100), xMax = log(2200), elapsed_time = 32 mins\n",
    "\n"
   ]
  },
  {
   "cell_type": "code",
   "execution_count": null,
   "metadata": {},
   "outputs": [],
   "source": []
  }
 ],
 "metadata": {
  "kernelspec": {
   "display_name": "Python 3.7.6 ('base')",
   "language": "python",
   "name": "python3"
  },
  "language_info": {
   "codemirror_mode": {
    "name": "ipython",
    "version": 3
   },
   "file_extension": ".py",
   "mimetype": "text/x-python",
   "name": "python",
   "nbconvert_exporter": "python",
   "pygments_lexer": "ipython3",
   "version": "3.7.6"
  },
  "orig_nbformat": 4,
  "vscode": {
   "interpreter": {
    "hash": "082308cb8ddb0a4c0fb2aa2d25b0a02ec4b93ddb779d6d5fe5f2eab1da3abdb6"
   }
  }
 },
 "nbformat": 4,
 "nbformat_minor": 2
}
